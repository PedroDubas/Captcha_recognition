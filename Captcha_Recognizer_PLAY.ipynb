{
  "nbformat": 4,
  "nbformat_minor": 0,
  "metadata": {
    "colab": {
      "name": "Captcha_Recognizer_PLAY.ipynb",
      "version": "0.3.2",
      "provenance": [],
      "include_colab_link": true
    },
    "kernelspec": {
      "name": "python3",
      "display_name": "Python 3"
    },
    "accelerator": "GPU"
  },
  "cells": [
    {
      "cell_type": "markdown",
      "metadata": {
        "id": "view-in-github",
        "colab_type": "text"
      },
      "source": [
        "<a href=\"https://colab.research.google.com/github/PedroDubas/Captcha_recognition/blob/master/Captcha_Recognizer_PLAY.ipynb\" target=\"_parent\"><img src=\"https://colab.research.google.com/assets/colab-badge.svg\" alt=\"Open In Colab\"/></a>"
      ]
    },
    {
      "cell_type": "code",
      "metadata": {
        "id": "E7hDAeZ5FZJk",
        "colab_type": "code",
        "colab": {
          "base_uri": "https://localhost:8080/",
          "height": 35
        },
        "outputId": "ec880cc6-ee07-415d-88fe-28a9c0b35807"
      },
      "source": [
        "#Download dos Captchas\n",
        "import urllib.request\n",
        "\n",
        "url = 'https://github.com/PedroDubas/Captcha_recognition/raw/master/samples.zip'\n",
        "urllib.request.urlretrieve(url, '/content/samples.zip')\n",
        "\n",
        "url = 'https://github.com/PedroDubas/Captcha_recognition/raw/master/melhor.hdf5'\n",
        "urllib.request.urlretrieve(url, '/content/melhor.hdf5')"
      ],
      "execution_count": 4,
      "outputs": [
        {
          "output_type": "execute_result",
          "data": {
            "text/plain": [
              "('/content/melhor.hdf5', <http.client.HTTPMessage at 0x7fd838d65630>)"
            ]
          },
          "metadata": {
            "tags": []
          },
          "execution_count": 4
        }
      ]
    },
    {
      "cell_type": "code",
      "metadata": {
        "id": "uGyk9ftIFari",
        "colab_type": "code",
        "colab": {}
      },
      "source": [
        "!unzip -q samples.zip "
      ],
      "execution_count": 0,
      "outputs": []
    },
    {
      "cell_type": "code",
      "metadata": {
        "id": "1E5ywzuuGUcv",
        "colab_type": "code",
        "colab": {
          "base_uri": "https://localhost:8080/",
          "height": 35
        },
        "outputId": "37b62765-51ec-4905-b9bd-f5fa7cb2186a"
      },
      "source": [
        "import cv2\n",
        "from PIL import Image\n",
        "import imutils\n",
        "import zipfile\n",
        "from google.colab.patches import cv2_imshow\n",
        "from skimage.transform import rescale, resize, downscale_local_mean\n",
        "import pandas as pd\n",
        "import glob\n",
        "\n",
        "import pandas as pd\n",
        "import numpy as np\n",
        "import matplotlib.pyplot as plt\n",
        "import matplotlib.image as mpimg\n",
        "import seaborn as sns\n",
        "%matplotlib inline\n",
        "\n",
        "np.random.seed(2)\n",
        "\n",
        "from sklearn.model_selection import train_test_split\n",
        "from sklearn.metrics import confusion_matrix\n",
        "import itertools\n",
        "\n",
        "from keras.utils.np_utils import to_categorical # convert to one-hot-encoding\n",
        "from keras.models import Sequential\n",
        "from keras.layers import Dense, Dropout, Flatten, Conv2D, MaxPool2D\n",
        "from keras.optimizers import RMSprop\n",
        "from keras.preprocessing.image import ImageDataGenerator\n",
        "from keras.callbacks import ReduceLROnPlateau,ModelCheckpoint\n",
        "\n",
        "from __future__ import print_function\n",
        "import sys\n",
        "\n",
        "\n",
        "import warnings\n",
        "warnings.filterwarnings(\"ignore\")"
      ],
      "execution_count": 6,
      "outputs": [
        {
          "output_type": "stream",
          "text": [
            "Using TensorFlow backend.\n"
          ],
          "name": "stderr"
        }
      ]
    },
    {
      "cell_type": "markdown",
      "metadata": {
        "id": "8zuR3c10FhOz",
        "colab_type": "text"
      },
      "source": [
        "##Re-cria a Rede Neural"
      ]
    },
    {
      "cell_type": "code",
      "metadata": {
        "id": "iZ-dkZYH0nlR",
        "colab_type": "code",
        "colab": {
          "base_uri": "https://localhost:8080/",
          "height": 290
        },
        "outputId": "c4bf0864-1f74-4c04-dcdf-c512fe6fc01d"
      },
      "source": [
        "modelin = Sequential()\n",
        "\n",
        "modelin.add(Conv2D(filters = 32, kernel_size = (5,5),padding = 'Same',activation ='relu', input_shape = (28,28,1)))\n",
        "modelin.add(Conv2D(filters = 32, kernel_size = (5,5),padding = 'Same', activation ='relu'))\n",
        "modelin.add(MaxPool2D(pool_size=(2,2)))\n",
        "modelin.add(Dropout(0.25))\n",
        "\n",
        "modelin.add(Conv2D(filters = 64, kernel_size = (3,3),padding = 'Same',activation ='relu'))\n",
        "modelin.add(Conv2D(filters = 64, kernel_size = (3,3),padding = 'Same',activation ='relu'))\n",
        "modelin.add(MaxPool2D(pool_size=(2,2), strides=(2,2)))\n",
        "modelin.add(Dropout(0.25))\n",
        "\n",
        "\n",
        "modelin.add(Flatten())\n",
        "modelin.add(Dense(256, activation = \"relu\"))\n",
        "modelin.add(Dropout(0.25))\n",
        "modelin.add(Dense(19, activation = \"softmax\"))\n",
        "\n",
        "#Carrega os pesos\n",
        "modelin.load_weights('melhor.hdf5')"
      ],
      "execution_count": 7,
      "outputs": [
        {
          "output_type": "stream",
          "text": [
            "WARNING:tensorflow:From /usr/local/lib/python3.6/dist-packages/keras/backend/tensorflow_backend.py:66: The name tf.get_default_graph is deprecated. Please use tf.compat.v1.get_default_graph instead.\n",
            "\n",
            "WARNING:tensorflow:From /usr/local/lib/python3.6/dist-packages/keras/backend/tensorflow_backend.py:541: The name tf.placeholder is deprecated. Please use tf.compat.v1.placeholder instead.\n",
            "\n",
            "WARNING:tensorflow:From /usr/local/lib/python3.6/dist-packages/keras/backend/tensorflow_backend.py:4432: The name tf.random_uniform is deprecated. Please use tf.random.uniform instead.\n",
            "\n",
            "WARNING:tensorflow:From /usr/local/lib/python3.6/dist-packages/keras/backend/tensorflow_backend.py:4267: The name tf.nn.max_pool is deprecated. Please use tf.nn.max_pool2d instead.\n",
            "\n",
            "WARNING:tensorflow:From /usr/local/lib/python3.6/dist-packages/keras/backend/tensorflow_backend.py:148: The name tf.placeholder_with_default is deprecated. Please use tf.compat.v1.placeholder_with_default instead.\n",
            "\n",
            "WARNING:tensorflow:From /usr/local/lib/python3.6/dist-packages/keras/backend/tensorflow_backend.py:3733: calling dropout (from tensorflow.python.ops.nn_ops) with keep_prob is deprecated and will be removed in a future version.\n",
            "Instructions for updating:\n",
            "Please use `rate` instead of `keep_prob`. Rate should be set to `rate = 1 - keep_prob`.\n",
            "WARNING:tensorflow:From /usr/local/lib/python3.6/dist-packages/keras/backend/tensorflow_backend.py:190: The name tf.get_default_session is deprecated. Please use tf.compat.v1.get_default_session instead.\n",
            "\n"
          ],
          "name": "stdout"
        }
      ]
    },
    {
      "cell_type": "code",
      "metadata": {
        "id": "Ti6o68aLGsbv",
        "colab_type": "code",
        "colab": {}
      },
      "source": [
        "classes = ['2', '3', '4', '5', '6', '7', '8', 'b', 'c', 'd', 'e', 'f', 'g', 'm', 'n', 'p', 'w', 'x', 'y']"
      ],
      "execution_count": 0,
      "outputs": []
    },
    {
      "cell_type": "code",
      "metadata": {
        "id": "hRc9NaOLG5O6",
        "colab_type": "code",
        "colab": {}
      },
      "source": [
        "lista_coluna =['label']\n",
        "for numero in range(0,784):\n",
        "    lista_coluna.append('pixel'+str(numero))\n",
        "\n",
        "treino = pd.DataFrame(columns=lista_coluna)"
      ],
      "execution_count": 0,
      "outputs": []
    },
    {
      "cell_type": "code",
      "metadata": {
        "id": "C3GDoVdbFfQm",
        "colab_type": "code",
        "colab": {}
      },
      "source": [
        "def leCaptcha(caminho,debug=False,treino = treino):\n",
        "    img = cv2.imread(caminho, 0)\n",
        "    blur = cv2.GaussianBlur(img, (5, 5), 0)\n",
        "    th3 = cv2.threshold(blur, 0, 255, cv2.THRESH_BINARY + cv2.THRESH_OTSU)[1]\n",
        "\n",
        "\n",
        "    kernel = np.ones((3,3), np.uint8)\n",
        "    dilation3 = cv2.dilate(th3, kernel, iterations=1)\n",
        "    erosion3 = cv2.erode(dilation3, kernel, iterations=1)\n",
        "    \n",
        "    kernel = np.ones((3,1), np.uint8)\n",
        "    dilation3 = cv2.dilate(erosion3, kernel, iterations=1)\n",
        "\n",
        "\n",
        "    #Posicionamento para pegar as letras individualmente da imagem\n",
        "    x, y, w, h = 30, 12, 21, 36\n",
        "    idx=0\n",
        "    for  i in range(5):        \n",
        "        crop_img = dilation3[y:y+h, x:x+w]\n",
        "        \n",
        "        #Altera o tamanho dos cortes para 28x28 um tamanho fixo, e mais facil para nossa rede trabalhar em cima mais tarde.\n",
        "        image_resized = resize(crop_img, (28.0, 28.0),anti_aliasing=True).astype(\"int32\") \n",
        "        rows,cols = image_resized.shape \n",
        "        img_size = rows*cols\n",
        "        \n",
        "        #Converte a imagem antes em uma Matrix, para um arrey de 784 posicoes\n",
        "        img_1D_vector = image_resized.reshape(img_size)\n",
        "        lista = img_1D_vector.tolist()\n",
        "        lista.insert(0,str(caminho[-9:][i]))\n",
        "        \n",
        "        new_row = pd.DataFrame(columns=treino.columns,data=[lista]) \n",
        "        treino = treino.append(new_row,ignore_index=True)   \n",
        "        x += w\n",
        "        idx +=1\n",
        "        if debug:\n",
        "          plt.subplot(330 + (i+1))\n",
        "          plt.imshow(image_resized, 'gray')\n",
        "        \n",
        "    if debug:    \n",
        "      plt.show()\n",
        "\n",
        "      plt.imshow(img, 'gray')\n",
        "      plt.show()\n",
        "\n",
        "      plt.imshow(dilation3, 'gray')\n",
        "      plt.title('Contouring')\n",
        "      plt.show()\n",
        "    \n",
        "    captcha = (treino.iloc[:,1:].values).astype('float32')\n",
        "    captcha = captcha.reshape(-1,28,28,1)\n",
        "    #Predict\n",
        "    captcha_pred = modelin.predict(captcha)\n",
        "    \n",
        "    captcha_pred_classes = np.argmax(captcha_pred,axis = 1)\n",
        "    \n",
        "    resp =''\n",
        "    for letra_pred in captcha_pred_classes:\n",
        "        resp = resp+ str(classes[letra_pred])\n",
        "    if debug: print('CAPTCHA ======> :' +resp)\n",
        "    \n",
        "    return resp\n",
        "\n"
      ],
      "execution_count": 0,
      "outputs": []
    },
    {
      "cell_type": "code",
      "metadata": {
        "id": "noHbRh_WG7Q3",
        "colab_type": "code",
        "colab": {
          "base_uri": "https://localhost:8080/",
          "height": 108
        },
        "outputId": "dec11739-3d06-4d03-acf5-c930b79f6896"
      },
      "source": [
        "print(leCaptcha('samples/cgcgb.png',False))\n",
        "print(leCaptcha('samples/23n88.png',False))\n",
        "print(leCaptcha('samples/bd3b7.png',False))\n",
        "print(leCaptcha('samples/ybfx6.png',False))\n",
        "print(leCaptcha('samples/c8n8c.png',False))"
      ],
      "execution_count": 25,
      "outputs": [
        {
          "output_type": "stream",
          "text": [
            "cgcgb\n",
            "23n88\n",
            "bd3b7\n",
            "ybfx6\n",
            "c8n8c\n"
          ],
          "name": "stdout"
        }
      ]
    },
    {
      "cell_type": "code",
      "metadata": {
        "id": "pPg284bcHh8w",
        "colab_type": "code",
        "colab": {
          "base_uri": "https://localhost:8080/",
          "height": 478
        },
        "outputId": "a9c1c057-a634-409f-a37a-dd945d26894e"
      },
      "source": [
        "leCaptcha('samples/e667x.png',True)"
      ],
      "execution_count": 26,
      "outputs": [
        {
          "output_type": "display_data",
          "data": {
            "image/png": "[encoded data removed]",
            "text/plain": [
              "<Figure size 432x288 with 5 Axes>"
            ]
          },
          "metadata": {
            "tags": []
          }
        },
        {
          "output_type": "display_data",
          "data": {
            "image/png": "[encoded data removed]",
            "text/plain": [
              "<Figure size 432x288 with 1 Axes>"
            ]
          },
          "metadata": {
            "tags": []
          }
        },
        {
          "output_type": "display_data",
          "data": {
            "image/png": "[encoded data removed]",
            "text/plain": [
              "<Figure size 432x288 with 1 Axes>"
            ]
          },
          "metadata": {
            "tags": []
          }
        },
        {
          "output_type": "stream",
          "text": [
            "CAPTCHA ======> :e667x\n"
          ],
          "name": "stdout"
        },
        {
          "output_type": "execute_result",
          "data": {
            "text/plain": [
              "'e667x'"
            ]
          },
          "metadata": {
            "tags": []
          },
          "execution_count": 26
        }
      ]
    },
    {
      "cell_type": "code",
      "metadata": {
        "id": "ZkZTozUZImgu",
        "colab_type": "code",
        "colab": {}
      },
      "source": [
        ""
      ],
      "execution_count": 0,
      "outputs": []
    }
  ]
}